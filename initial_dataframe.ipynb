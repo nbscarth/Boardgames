{
 "cells": [
  {
   "cell_type": "code",
   "execution_count": 2,
   "id": "44369ab6",
   "metadata": {},
   "outputs": [],
   "source": [
    "# Imports\n",
    "import pandas as pd"
   ]
  },
  {
   "cell_type": "code",
   "execution_count": 3,
   "id": "4fd7d296",
   "metadata": {},
   "outputs": [
    {
     "data": {
      "text/plain": [
       "[    Board Game Rank Thumbnail image  \\\n",
       " 0                 1             NaN   \n",
       " 1                 2             NaN   \n",
       " 2                 3             NaN   \n",
       " 3                 4             NaN   \n",
       " 4                 5             NaN   \n",
       " ..              ...             ...   \n",
       " 101              96             NaN   \n",
       " 102              97             NaN   \n",
       " 103              98             NaN   \n",
       " 104              99             NaN   \n",
       " 105             100             NaN   \n",
       " \n",
       "                                                  Title Geek Rating Avg Rating  \\\n",
       " 0    Brass: Birmingham  (2018)  Build networks, gro...       8.402       8.58   \n",
       " 1    Pandemic Legacy: Season 1  (2015)  Mutating di...       8.362       8.52   \n",
       " 2    Ark Nova  (2021)  Plan and build a modern, sci...       8.348       8.54   \n",
       " 3    Gloomhaven  (2017)  Vanquish monsters with str...       8.323       8.56   \n",
       " 4    Twilight Imperium: Fourth Edition  (2017)  Bui...       8.227       8.58   \n",
       " ..                                                 ...         ...        ...   \n",
       " 101  Aeon's End  (2016)  Mages must reach their ful...       7.594       7.88   \n",
       " 102  Blood on the Clocktower  (2022)  Deduce who th...       7.593       8.37   \n",
       " 103  Lords of Waterdeep  (2012)  Deploy agents and ...       7.587       7.73   \n",
       " 104  El Grande  (1995)  Use your caballeros to cont...       7.587       7.76   \n",
       " 105  Wingspan Asia  (2022)  Travel to Asia to disco...       7.586       8.24   \n",
       " \n",
       "     Num Voters Shop  \n",
       " 0        52281  NaN  \n",
       " 1        55653  NaN  \n",
       " 2        52748  NaN  \n",
       " 3        64948  NaN  \n",
       " 4        26163  NaN  \n",
       " ..         ...  ...  \n",
       " 101      22504  NaN  \n",
       " 102       8242  NaN  \n",
       " 103      57597  NaN  \n",
       " 104      31179  NaN  \n",
       " 105       8220  NaN  \n",
       " \n",
       " [106 rows x 7 columns]]"
      ]
     },
     "execution_count": 3,
     "metadata": {},
     "output_type": "execute_result"
    }
   ],
   "source": [
    "# Read html from website\n",
    "url = \"https://boardgamegeek.com/browse/boardgame\"\n",
    "df = pd.read_html(url)\n",
    "df"
   ]
  },
  {
   "cell_type": "code",
   "execution_count": 4,
   "id": "7141864e",
   "metadata": {},
   "outputs": [
    {
     "data": {
      "application/vnd.microsoft.datawrangler.viewer.v0+json": {
       "columns": [
        {
         "name": "index",
         "rawType": "int64",
         "type": "integer"
        },
        {
         "name": "Board Game Rank",
         "rawType": "object",
         "type": "string"
        },
        {
         "name": "Title",
         "rawType": "object",
         "type": "string"
        },
        {
         "name": "Geek Rating",
         "rawType": "object",
         "type": "string"
        },
        {
         "name": "Avg Rating",
         "rawType": "object",
         "type": "string"
        },
        {
         "name": "Num Voters",
         "rawType": "object",
         "type": "string"
        }
       ],
       "ref": "10fcef1a-f541-4ca1-abb8-0f0e6a915908",
       "rows": [
        [
         "0",
         "1",
         "Brass: Birmingham  (2018)  Build networks, grow industries, and navigate the world of the Industrial Revolution.",
         "8.402",
         "8.58",
         "52281"
        ],
        [
         "1",
         "2",
         "Pandemic Legacy: Season 1  (2015)  Mutating diseases are spreading around the world - can your team save humanity?",
         "8.362",
         "8.52",
         "55653"
        ],
        [
         "2",
         "3",
         "Ark Nova  (2021)  Plan and build a modern, scientifically managed zoo to support conservation projects.",
         "8.348",
         "8.54",
         "52748"
        ],
        [
         "3",
         "4",
         "Gloomhaven  (2017)  Vanquish monsters with strategic cardplay. Fulfill your quest to leave your legacy!",
         "8.323",
         "8.56",
         "64948"
        ],
        [
         "4",
         "5",
         "Twilight Imperium: Fourth Edition  (2017)  Build an intergalactic empire through trade, research, conquest and grand politics.",
         "8.227",
         "8.58",
         "26163"
        ]
       ],
       "shape": {
        "columns": 5,
        "rows": 5
       }
      },
      "text/html": [
       "<div>\n",
       "<style scoped>\n",
       "    .dataframe tbody tr th:only-of-type {\n",
       "        vertical-align: middle;\n",
       "    }\n",
       "\n",
       "    .dataframe tbody tr th {\n",
       "        vertical-align: top;\n",
       "    }\n",
       "\n",
       "    .dataframe thead th {\n",
       "        text-align: right;\n",
       "    }\n",
       "</style>\n",
       "<table border=\"1\" class=\"dataframe\">\n",
       "  <thead>\n",
       "    <tr style=\"text-align: right;\">\n",
       "      <th></th>\n",
       "      <th>Board Game Rank</th>\n",
       "      <th>Title</th>\n",
       "      <th>Geek Rating</th>\n",
       "      <th>Avg Rating</th>\n",
       "      <th>Num Voters</th>\n",
       "    </tr>\n",
       "  </thead>\n",
       "  <tbody>\n",
       "    <tr>\n",
       "      <th>0</th>\n",
       "      <td>1</td>\n",
       "      <td>Brass: Birmingham  (2018)  Build networks, gro...</td>\n",
       "      <td>8.402</td>\n",
       "      <td>8.58</td>\n",
       "      <td>52281</td>\n",
       "    </tr>\n",
       "    <tr>\n",
       "      <th>1</th>\n",
       "      <td>2</td>\n",
       "      <td>Pandemic Legacy: Season 1  (2015)  Mutating di...</td>\n",
       "      <td>8.362</td>\n",
       "      <td>8.52</td>\n",
       "      <td>55653</td>\n",
       "    </tr>\n",
       "    <tr>\n",
       "      <th>2</th>\n",
       "      <td>3</td>\n",
       "      <td>Ark Nova  (2021)  Plan and build a modern, sci...</td>\n",
       "      <td>8.348</td>\n",
       "      <td>8.54</td>\n",
       "      <td>52748</td>\n",
       "    </tr>\n",
       "    <tr>\n",
       "      <th>3</th>\n",
       "      <td>4</td>\n",
       "      <td>Gloomhaven  (2017)  Vanquish monsters with str...</td>\n",
       "      <td>8.323</td>\n",
       "      <td>8.56</td>\n",
       "      <td>64948</td>\n",
       "    </tr>\n",
       "    <tr>\n",
       "      <th>4</th>\n",
       "      <td>5</td>\n",
       "      <td>Twilight Imperium: Fourth Edition  (2017)  Bui...</td>\n",
       "      <td>8.227</td>\n",
       "      <td>8.58</td>\n",
       "      <td>26163</td>\n",
       "    </tr>\n",
       "  </tbody>\n",
       "</table>\n",
       "</div>"
      ],
      "text/plain": [
       "  Board Game Rank                                              Title  \\\n",
       "0               1  Brass: Birmingham  (2018)  Build networks, gro...   \n",
       "1               2  Pandemic Legacy: Season 1  (2015)  Mutating di...   \n",
       "2               3  Ark Nova  (2021)  Plan and build a modern, sci...   \n",
       "3               4  Gloomhaven  (2017)  Vanquish monsters with str...   \n",
       "4               5  Twilight Imperium: Fourth Edition  (2017)  Bui...   \n",
       "\n",
       "  Geek Rating Avg Rating Num Voters  \n",
       "0       8.402       8.58      52281  \n",
       "1       8.362       8.52      55653  \n",
       "2       8.348       8.54      52748  \n",
       "3       8.323       8.56      64948  \n",
       "4       8.227       8.58      26163  "
      ]
     },
     "execution_count": 4,
     "metadata": {},
     "output_type": "execute_result"
    }
   ],
   "source": [
    "# Initial dataframe\n",
    "rank_df = df[0]\n",
    "rank_df = rank_df[['Board Game Rank', 'Title', 'Geek Rating', 'Avg Rating', 'Num Voters']]\n",
    "rank_df.head()"
   ]
  },
  {
   "cell_type": "code",
   "execution_count": 5,
   "id": "263bd2f3",
   "metadata": {},
   "outputs": [
    {
     "data": {
      "application/vnd.microsoft.datawrangler.viewer.v0+json": {
       "columns": [
        {
         "name": "index",
         "rawType": "object",
         "type": "string"
        },
        {
         "name": "Board Game Rank",
         "rawType": "object",
         "type": "unknown"
        },
        {
         "name": "Title",
         "rawType": "object",
         "type": "unknown"
        },
        {
         "name": "Geek Rating",
         "rawType": "object",
         "type": "unknown"
        },
        {
         "name": "Avg Rating",
         "rawType": "object",
         "type": "unknown"
        },
        {
         "name": "Num Voters",
         "rawType": "object",
         "type": "unknown"
        }
       ],
       "ref": "5b1904e0-6043-49f1-81fe-466c0a43cce8",
       "rows": [
        [
         "count",
         "106",
         "106",
         "106",
         "106",
         "106"
        ],
        [
         "unique",
         "104",
         "104",
         "97",
         "73",
         "104"
        ],
        [
         "top",
         "Expand Your Collection",
         "Expand Your Collection",
         "Expand Your Collection",
         "8.42",
         "Expand Your Collection"
        ],
        [
         "freq",
         "3",
         "3",
         "3",
         "4",
         "3"
        ]
       ],
       "shape": {
        "columns": 5,
        "rows": 4
       }
      },
      "text/html": [
       "<div>\n",
       "<style scoped>\n",
       "    .dataframe tbody tr th:only-of-type {\n",
       "        vertical-align: middle;\n",
       "    }\n",
       "\n",
       "    .dataframe tbody tr th {\n",
       "        vertical-align: top;\n",
       "    }\n",
       "\n",
       "    .dataframe thead th {\n",
       "        text-align: right;\n",
       "    }\n",
       "</style>\n",
       "<table border=\"1\" class=\"dataframe\">\n",
       "  <thead>\n",
       "    <tr style=\"text-align: right;\">\n",
       "      <th></th>\n",
       "      <th>Board Game Rank</th>\n",
       "      <th>Title</th>\n",
       "      <th>Geek Rating</th>\n",
       "      <th>Avg Rating</th>\n",
       "      <th>Num Voters</th>\n",
       "    </tr>\n",
       "  </thead>\n",
       "  <tbody>\n",
       "    <tr>\n",
       "      <th>count</th>\n",
       "      <td>106</td>\n",
       "      <td>106</td>\n",
       "      <td>106</td>\n",
       "      <td>106</td>\n",
       "      <td>106</td>\n",
       "    </tr>\n",
       "    <tr>\n",
       "      <th>unique</th>\n",
       "      <td>104</td>\n",
       "      <td>104</td>\n",
       "      <td>97</td>\n",
       "      <td>73</td>\n",
       "      <td>104</td>\n",
       "    </tr>\n",
       "    <tr>\n",
       "      <th>top</th>\n",
       "      <td>Expand Your Collection</td>\n",
       "      <td>Expand Your Collection</td>\n",
       "      <td>Expand Your Collection</td>\n",
       "      <td>8.42</td>\n",
       "      <td>Expand Your Collection</td>\n",
       "    </tr>\n",
       "    <tr>\n",
       "      <th>freq</th>\n",
       "      <td>3</td>\n",
       "      <td>3</td>\n",
       "      <td>3</td>\n",
       "      <td>4</td>\n",
       "      <td>3</td>\n",
       "    </tr>\n",
       "  </tbody>\n",
       "</table>\n",
       "</div>"
      ],
      "text/plain": [
       "               Board Game Rank                   Title  \\\n",
       "count                      106                     106   \n",
       "unique                     104                     104   \n",
       "top     Expand Your Collection  Expand Your Collection   \n",
       "freq                         3                       3   \n",
       "\n",
       "                   Geek Rating Avg Rating              Num Voters  \n",
       "count                      106        106                     106  \n",
       "unique                      97         73                     104  \n",
       "top     Expand Your Collection       8.42  Expand Your Collection  \n",
       "freq                         3          4                       3  "
      ]
     },
     "execution_count": 5,
     "metadata": {},
     "output_type": "execute_result"
    }
   ],
   "source": [
    "# Describe dataframe\n",
    "rank_df.describe()"
   ]
  },
  {
   "cell_type": "code",
   "execution_count": 6,
   "id": "6636f3bd",
   "metadata": {},
   "outputs": [
    {
     "data": {
      "application/vnd.microsoft.datawrangler.viewer.v0+json": {
       "columns": [
        {
         "name": "index",
         "rawType": "int64",
         "type": "integer"
        },
        {
         "name": "Board Game Rank",
         "rawType": "object",
         "type": "string"
        }
       ],
       "ref": "489e78c4-70db-4511-a159-218efa753370",
       "rows": [
        [
         "15",
         "Expand Your Collection"
        ],
        [
         "31",
         "GEEK.legacyAds.push('dfp-inline-post_1');"
        ],
        [
         "47",
         "Expand Your Collection"
        ],
        [
         "63",
         "GEEK.legacyAds.push('dfp-inline-post_3');"
        ],
        [
         "79",
         "Expand Your Collection"
        ],
        [
         "95",
         "GEEK.legacyAds.push('dfp-inline-post_5');"
        ]
       ],
       "shape": {
        "columns": 1,
        "rows": 6
       }
      },
      "text/plain": [
       "15                       Expand Your Collection\n",
       "31    GEEK.legacyAds.push('dfp-inline-post_1');\n",
       "47                       Expand Your Collection\n",
       "63    GEEK.legacyAds.push('dfp-inline-post_3');\n",
       "79                       Expand Your Collection\n",
       "95    GEEK.legacyAds.push('dfp-inline-post_5');\n",
       "Name: Board Game Rank, dtype: object"
      ]
     },
     "execution_count": 6,
     "metadata": {},
     "output_type": "execute_result"
    }
   ],
   "source": [
    "# Use Regex to find rank rows that are not numbers\n",
    "extra_rows = rank_df['Board Game Rank'].loc[rank_df['Board Game Rank'].str.match(r\"\\D\")]\n",
    "extra_rows"
   ]
  },
  {
   "cell_type": "code",
   "execution_count": 7,
   "id": "f1b8ac0a",
   "metadata": {},
   "outputs": [
    {
     "data": {
      "application/vnd.microsoft.datawrangler.viewer.v0+json": {
       "columns": [
        {
         "name": "index",
         "rawType": "object",
         "type": "string"
        },
        {
         "name": "0",
         "rawType": "int64",
         "type": "integer"
        }
       ],
       "ref": "fa4da9c5-8515-400d-b7c7-263341cb60fe",
       "rows": [
        [
         "Board Game Rank",
         "100"
        ],
        [
         "Title",
         "100"
        ],
        [
         "Geek Rating",
         "100"
        ],
        [
         "Avg Rating",
         "100"
        ],
        [
         "Num Voters",
         "100"
        ]
       ],
       "shape": {
        "columns": 1,
        "rows": 5
       }
      },
      "text/plain": [
       "Board Game Rank    100\n",
       "Title              100\n",
       "Geek Rating        100\n",
       "Avg Rating         100\n",
       "Num Voters         100\n",
       "dtype: int64"
      ]
     },
     "execution_count": 7,
     "metadata": {},
     "output_type": "execute_result"
    }
   ],
   "source": [
    "# Drop extra rows\n",
    "trimmed_df = rank_df.drop(extra_rows.index)\n",
    "trimmed_df.count()"
   ]
  },
  {
   "cell_type": "code",
   "execution_count": 8,
   "id": "ec9606b7",
   "metadata": {},
   "outputs": [
    {
     "data": {
      "application/vnd.microsoft.datawrangler.viewer.v0+json": {
       "columns": [
        {
         "name": "index",
         "rawType": "int64",
         "type": "integer"
        },
        {
         "name": "Board Game Rank",
         "rawType": "object",
         "type": "string"
        },
        {
         "name": "Title",
         "rawType": "object",
         "type": "string"
        },
        {
         "name": "Geek Rating",
         "rawType": "object",
         "type": "string"
        },
        {
         "name": "Avg Rating",
         "rawType": "object",
         "type": "string"
        },
        {
         "name": "Num Voters",
         "rawType": "object",
         "type": "string"
        },
        {
         "name": "Year",
         "rawType": "object",
         "type": "string"
        }
       ],
       "ref": "19998bca-d41a-47f5-a9cc-488f2f258e74",
       "rows": [
        [
         "0",
         "1",
         "Brass: Birmingham  (2018)  Build networks, grow industries, and navigate the world of the Industrial Revolution.",
         "8.402",
         "8.58",
         "52281",
         "2018"
        ],
        [
         "1",
         "2",
         "Pandemic Legacy: Season 1  (2015)  Mutating diseases are spreading around the world - can your team save humanity?",
         "8.362",
         "8.52",
         "55653",
         "2015"
        ],
        [
         "2",
         "3",
         "Ark Nova  (2021)  Plan and build a modern, scientifically managed zoo to support conservation projects.",
         "8.348",
         "8.54",
         "52748",
         "2021"
        ],
        [
         "3",
         "4",
         "Gloomhaven  (2017)  Vanquish monsters with strategic cardplay. Fulfill your quest to leave your legacy!",
         "8.323",
         "8.56",
         "64948",
         "2017"
        ],
        [
         "4",
         "5",
         "Twilight Imperium: Fourth Edition  (2017)  Build an intergalactic empire through trade, research, conquest and grand politics.",
         "8.227",
         "8.58",
         "26163",
         "2017"
        ]
       ],
       "shape": {
        "columns": 6,
        "rows": 5
       }
      },
      "text/html": [
       "<div>\n",
       "<style scoped>\n",
       "    .dataframe tbody tr th:only-of-type {\n",
       "        vertical-align: middle;\n",
       "    }\n",
       "\n",
       "    .dataframe tbody tr th {\n",
       "        vertical-align: top;\n",
       "    }\n",
       "\n",
       "    .dataframe thead th {\n",
       "        text-align: right;\n",
       "    }\n",
       "</style>\n",
       "<table border=\"1\" class=\"dataframe\">\n",
       "  <thead>\n",
       "    <tr style=\"text-align: right;\">\n",
       "      <th></th>\n",
       "      <th>Board Game Rank</th>\n",
       "      <th>Title</th>\n",
       "      <th>Geek Rating</th>\n",
       "      <th>Avg Rating</th>\n",
       "      <th>Num Voters</th>\n",
       "      <th>Year</th>\n",
       "    </tr>\n",
       "  </thead>\n",
       "  <tbody>\n",
       "    <tr>\n",
       "      <th>0</th>\n",
       "      <td>1</td>\n",
       "      <td>Brass: Birmingham  (2018)  Build networks, gro...</td>\n",
       "      <td>8.402</td>\n",
       "      <td>8.58</td>\n",
       "      <td>52281</td>\n",
       "      <td>2018</td>\n",
       "    </tr>\n",
       "    <tr>\n",
       "      <th>1</th>\n",
       "      <td>2</td>\n",
       "      <td>Pandemic Legacy: Season 1  (2015)  Mutating di...</td>\n",
       "      <td>8.362</td>\n",
       "      <td>8.52</td>\n",
       "      <td>55653</td>\n",
       "      <td>2015</td>\n",
       "    </tr>\n",
       "    <tr>\n",
       "      <th>2</th>\n",
       "      <td>3</td>\n",
       "      <td>Ark Nova  (2021)  Plan and build a modern, sci...</td>\n",
       "      <td>8.348</td>\n",
       "      <td>8.54</td>\n",
       "      <td>52748</td>\n",
       "      <td>2021</td>\n",
       "    </tr>\n",
       "    <tr>\n",
       "      <th>3</th>\n",
       "      <td>4</td>\n",
       "      <td>Gloomhaven  (2017)  Vanquish monsters with str...</td>\n",
       "      <td>8.323</td>\n",
       "      <td>8.56</td>\n",
       "      <td>64948</td>\n",
       "      <td>2017</td>\n",
       "    </tr>\n",
       "    <tr>\n",
       "      <th>4</th>\n",
       "      <td>5</td>\n",
       "      <td>Twilight Imperium: Fourth Edition  (2017)  Bui...</td>\n",
       "      <td>8.227</td>\n",
       "      <td>8.58</td>\n",
       "      <td>26163</td>\n",
       "      <td>2017</td>\n",
       "    </tr>\n",
       "  </tbody>\n",
       "</table>\n",
       "</div>"
      ],
      "text/plain": [
       "  Board Game Rank                                              Title  \\\n",
       "0               1  Brass: Birmingham  (2018)  Build networks, gro...   \n",
       "1               2  Pandemic Legacy: Season 1  (2015)  Mutating di...   \n",
       "2               3  Ark Nova  (2021)  Plan and build a modern, sci...   \n",
       "3               4  Gloomhaven  (2017)  Vanquish monsters with str...   \n",
       "4               5  Twilight Imperium: Fourth Edition  (2017)  Bui...   \n",
       "\n",
       "  Geek Rating Avg Rating Num Voters  Year  \n",
       "0       8.402       8.58      52281  2018  \n",
       "1       8.362       8.52      55653  2015  \n",
       "2       8.348       8.54      52748  2021  \n",
       "3       8.323       8.56      64948  2017  \n",
       "4       8.227       8.58      26163  2017  "
      ]
     },
     "execution_count": 8,
     "metadata": {},
     "output_type": "execute_result"
    }
   ],
   "source": [
    "# Extract year from title\n",
    "trimmed_df['Year'] = trimmed_df['Title'].str.extract(r\"(\\d{4})\")\n",
    "trimmed_df.head()\n"
   ]
  },
  {
   "cell_type": "code",
   "execution_count": 13,
   "id": "a99238c5",
   "metadata": {},
   "outputs": [
    {
     "data": {
      "application/vnd.microsoft.datawrangler.viewer.v0+json": {
       "columns": [
        {
         "name": "index",
         "rawType": "int64",
         "type": "integer"
        },
        {
         "name": "Board Game Rank",
         "rawType": "object",
         "type": "string"
        },
        {
         "name": "Title",
         "rawType": "object",
         "type": "string"
        },
        {
         "name": "Geek Rating",
         "rawType": "object",
         "type": "string"
        },
        {
         "name": "Avg Rating",
         "rawType": "object",
         "type": "string"
        },
        {
         "name": "Num Voters",
         "rawType": "object",
         "type": "string"
        },
        {
         "name": "Year",
         "rawType": "object",
         "type": "string"
        }
       ],
       "ref": "191118f0-0390-40d1-982d-4b790d153e94",
       "rows": [
        [
         "0",
         "1",
         "Brass: Birmingham ",
         "8.402",
         "8.58",
         "52281",
         "2018"
        ],
        [
         "1",
         "2",
         "Pandemic Legacy: Season 1 ",
         "8.362",
         "8.52",
         "55653",
         "2015"
        ],
        [
         "2",
         "3",
         "Ark Nova ",
         "8.348",
         "8.54",
         "52748",
         "2021"
        ],
        [
         "3",
         "4",
         "Gloomhaven ",
         "8.323",
         "8.56",
         "64948",
         "2017"
        ],
        [
         "4",
         "5",
         "Twilight Imperium: Fourth Edition ",
         "8.227",
         "8.58",
         "26163",
         "2017"
        ]
       ],
       "shape": {
        "columns": 6,
        "rows": 5
       }
      },
      "text/html": [
       "<div>\n",
       "<style scoped>\n",
       "    .dataframe tbody tr th:only-of-type {\n",
       "        vertical-align: middle;\n",
       "    }\n",
       "\n",
       "    .dataframe tbody tr th {\n",
       "        vertical-align: top;\n",
       "    }\n",
       "\n",
       "    .dataframe thead th {\n",
       "        text-align: right;\n",
       "    }\n",
       "</style>\n",
       "<table border=\"1\" class=\"dataframe\">\n",
       "  <thead>\n",
       "    <tr style=\"text-align: right;\">\n",
       "      <th></th>\n",
       "      <th>Board Game Rank</th>\n",
       "      <th>Title</th>\n",
       "      <th>Geek Rating</th>\n",
       "      <th>Avg Rating</th>\n",
       "      <th>Num Voters</th>\n",
       "      <th>Year</th>\n",
       "    </tr>\n",
       "  </thead>\n",
       "  <tbody>\n",
       "    <tr>\n",
       "      <th>0</th>\n",
       "      <td>1</td>\n",
       "      <td>Brass: Birmingham</td>\n",
       "      <td>8.402</td>\n",
       "      <td>8.58</td>\n",
       "      <td>52281</td>\n",
       "      <td>2018</td>\n",
       "    </tr>\n",
       "    <tr>\n",
       "      <th>1</th>\n",
       "      <td>2</td>\n",
       "      <td>Pandemic Legacy: Season 1</td>\n",
       "      <td>8.362</td>\n",
       "      <td>8.52</td>\n",
       "      <td>55653</td>\n",
       "      <td>2015</td>\n",
       "    </tr>\n",
       "    <tr>\n",
       "      <th>2</th>\n",
       "      <td>3</td>\n",
       "      <td>Ark Nova</td>\n",
       "      <td>8.348</td>\n",
       "      <td>8.54</td>\n",
       "      <td>52748</td>\n",
       "      <td>2021</td>\n",
       "    </tr>\n",
       "    <tr>\n",
       "      <th>3</th>\n",
       "      <td>4</td>\n",
       "      <td>Gloomhaven</td>\n",
       "      <td>8.323</td>\n",
       "      <td>8.56</td>\n",
       "      <td>64948</td>\n",
       "      <td>2017</td>\n",
       "    </tr>\n",
       "    <tr>\n",
       "      <th>4</th>\n",
       "      <td>5</td>\n",
       "      <td>Twilight Imperium: Fourth Edition</td>\n",
       "      <td>8.227</td>\n",
       "      <td>8.58</td>\n",
       "      <td>26163</td>\n",
       "      <td>2017</td>\n",
       "    </tr>\n",
       "  </tbody>\n",
       "</table>\n",
       "</div>"
      ],
      "text/plain": [
       "  Board Game Rank                               Title Geek Rating Avg Rating  \\\n",
       "0               1                  Brass: Birmingham        8.402       8.58   \n",
       "1               2          Pandemic Legacy: Season 1        8.362       8.52   \n",
       "2               3                           Ark Nova        8.348       8.54   \n",
       "3               4                         Gloomhaven        8.323       8.56   \n",
       "4               5  Twilight Imperium: Fourth Edition        8.227       8.58   \n",
       "\n",
       "  Num Voters  Year  \n",
       "0      52281  2018  \n",
       "1      55653  2015  \n",
       "2      52748  2021  \n",
       "3      64948  2017  \n",
       "4      26163  2017  "
      ]
     },
     "execution_count": 13,
     "metadata": {},
     "output_type": "execute_result"
    }
   ],
   "source": [
    "# Remove year and extra text from title\n",
    "trimmed_df['Title'] = trimmed_df['Title'].str.replace(r\"\\s\\W\\d{4}.*\", \"\", regex=True)\n",
    "trimmed_df.head()"
   ]
  },
  {
   "cell_type": "code",
   "execution_count": null,
   "id": "6fa6964e",
   "metadata": {},
   "outputs": [
    {
     "data": {
      "application/vnd.microsoft.datawrangler.viewer.v0+json": {
       "columns": [
        {
         "name": "index",
         "rawType": "object",
         "type": "string"
        },
        {
         "name": "0",
         "rawType": "object",
         "type": "unknown"
        }
       ],
       "ref": "6091d24d-554c-4fce-b3aa-daa510296959",
       "rows": [
        [
         "Board Game Rank",
         "int32"
        ],
        [
         "Title",
         "object"
        ],
        [
         "Geek Rating",
         "float64"
        ],
        [
         "Avg Rating",
         "float64"
        ],
        [
         "Num Voters",
         "int32"
        ],
        [
         "Year",
         "int32"
        ]
       ],
       "shape": {
        "columns": 1,
        "rows": 6
       }
      },
      "text/plain": [
       "Board Game Rank      int32\n",
       "Title               object\n",
       "Geek Rating        float64\n",
       "Avg Rating         float64\n",
       "Num Voters           int32\n",
       "Year                 int32\n",
       "dtype: object"
      ]
     },
     "execution_count": 14,
     "metadata": {},
     "output_type": "execute_result"
    }
   ],
   "source": [
    "# Set types of columns\n",
    "typed_df = trimmed_df.astype({\n",
    "    'Board Game Rank': int,\n",
    "    'Title': str,\n",
    "    'Geek Rating': float,\n",
    "    'Avg Rating': float,\n",
    "    'Num Voters': int,\n",
    "    'Year': int\n",
    "})\n",
    "typed_df.dtypes"
   ]
  },
  {
   "cell_type": "code",
   "execution_count": 15,
   "id": "3a94d840",
   "metadata": {},
   "outputs": [
    {
     "data": {
      "application/vnd.microsoft.datawrangler.viewer.v0+json": {
       "columns": [
        {
         "name": "index",
         "rawType": "int64",
         "type": "integer"
        },
        {
         "name": "Board Game Rank",
         "rawType": "int32",
         "type": "integer"
        },
        {
         "name": "Title",
         "rawType": "object",
         "type": "string"
        },
        {
         "name": "Year",
         "rawType": "int32",
         "type": "integer"
        },
        {
         "name": "Geek Rating",
         "rawType": "float64",
         "type": "float"
        },
        {
         "name": "Avg Rating",
         "rawType": "float64",
         "type": "float"
        },
        {
         "name": "Num Voters",
         "rawType": "int32",
         "type": "integer"
        }
       ],
       "ref": "dc6ccc83-665f-444a-9e6a-b01bb4eef3ab",
       "rows": [
        [
         "0",
         "1",
         "Brass: Birmingham ",
         "2018",
         "8.402",
         "8.58",
         "52281"
        ],
        [
         "1",
         "2",
         "Pandemic Legacy: Season 1 ",
         "2015",
         "8.362",
         "8.52",
         "55653"
        ],
        [
         "2",
         "3",
         "Ark Nova ",
         "2021",
         "8.348",
         "8.54",
         "52748"
        ],
        [
         "3",
         "4",
         "Gloomhaven ",
         "2017",
         "8.323",
         "8.56",
         "64948"
        ],
        [
         "4",
         "5",
         "Twilight Imperium: Fourth Edition ",
         "2017",
         "8.227",
         "8.58",
         "26163"
        ]
       ],
       "shape": {
        "columns": 6,
        "rows": 5
       }
      },
      "text/html": [
       "<div>\n",
       "<style scoped>\n",
       "    .dataframe tbody tr th:only-of-type {\n",
       "        vertical-align: middle;\n",
       "    }\n",
       "\n",
       "    .dataframe tbody tr th {\n",
       "        vertical-align: top;\n",
       "    }\n",
       "\n",
       "    .dataframe thead th {\n",
       "        text-align: right;\n",
       "    }\n",
       "</style>\n",
       "<table border=\"1\" class=\"dataframe\">\n",
       "  <thead>\n",
       "    <tr style=\"text-align: right;\">\n",
       "      <th></th>\n",
       "      <th>Board Game Rank</th>\n",
       "      <th>Title</th>\n",
       "      <th>Year</th>\n",
       "      <th>Geek Rating</th>\n",
       "      <th>Avg Rating</th>\n",
       "      <th>Num Voters</th>\n",
       "    </tr>\n",
       "  </thead>\n",
       "  <tbody>\n",
       "    <tr>\n",
       "      <th>0</th>\n",
       "      <td>1</td>\n",
       "      <td>Brass: Birmingham</td>\n",
       "      <td>2018</td>\n",
       "      <td>8.402</td>\n",
       "      <td>8.58</td>\n",
       "      <td>52281</td>\n",
       "    </tr>\n",
       "    <tr>\n",
       "      <th>1</th>\n",
       "      <td>2</td>\n",
       "      <td>Pandemic Legacy: Season 1</td>\n",
       "      <td>2015</td>\n",
       "      <td>8.362</td>\n",
       "      <td>8.52</td>\n",
       "      <td>55653</td>\n",
       "    </tr>\n",
       "    <tr>\n",
       "      <th>2</th>\n",
       "      <td>3</td>\n",
       "      <td>Ark Nova</td>\n",
       "      <td>2021</td>\n",
       "      <td>8.348</td>\n",
       "      <td>8.54</td>\n",
       "      <td>52748</td>\n",
       "    </tr>\n",
       "    <tr>\n",
       "      <th>3</th>\n",
       "      <td>4</td>\n",
       "      <td>Gloomhaven</td>\n",
       "      <td>2017</td>\n",
       "      <td>8.323</td>\n",
       "      <td>8.56</td>\n",
       "      <td>64948</td>\n",
       "    </tr>\n",
       "    <tr>\n",
       "      <th>4</th>\n",
       "      <td>5</td>\n",
       "      <td>Twilight Imperium: Fourth Edition</td>\n",
       "      <td>2017</td>\n",
       "      <td>8.227</td>\n",
       "      <td>8.58</td>\n",
       "      <td>26163</td>\n",
       "    </tr>\n",
       "  </tbody>\n",
       "</table>\n",
       "</div>"
      ],
      "text/plain": [
       "   Board Game Rank                               Title  Year  Geek Rating  \\\n",
       "0                1                  Brass: Birmingham   2018        8.402   \n",
       "1                2          Pandemic Legacy: Season 1   2015        8.362   \n",
       "2                3                           Ark Nova   2021        8.348   \n",
       "3                4                         Gloomhaven   2017        8.323   \n",
       "4                5  Twilight Imperium: Fourth Edition   2017        8.227   \n",
       "\n",
       "   Avg Rating  Num Voters  \n",
       "0        8.58       52281  \n",
       "1        8.52       55653  \n",
       "2        8.54       52748  \n",
       "3        8.56       64948  \n",
       "4        8.58       26163  "
      ]
     },
     "execution_count": 15,
     "metadata": {},
     "output_type": "execute_result"
    }
   ],
   "source": [
    "# Rearranged columns\n",
    "typed_df = typed_df[['Board Game Rank', 'Title', 'Year', 'Geek Rating', 'Avg Rating', 'Num Voters']]\n",
    "typed_df.head()"
   ]
  }
 ],
 "metadata": {
  "kernelspec": {
   "display_name": "dev",
   "language": "python",
   "name": "python3"
  },
  "language_info": {
   "codemirror_mode": {
    "name": "ipython",
    "version": 3
   },
   "file_extension": ".py",
   "mimetype": "text/x-python",
   "name": "python",
   "nbconvert_exporter": "python",
   "pygments_lexer": "ipython3",
   "version": "3.10.14"
  }
 },
 "nbformat": 4,
 "nbformat_minor": 5
}
