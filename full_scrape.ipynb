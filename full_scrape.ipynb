{
 "cells": [
  {
   "cell_type": "code",
   "execution_count": 1,
   "id": "a438cb52",
   "metadata": {},
   "outputs": [],
   "source": [
    "# Imports\n",
    "from splinter import Browser\n",
    "from bs4 import BeautifulSoup as soup\n",
    "import pandas as pd"
   ]
  },
  {
   "cell_type": "code",
   "execution_count": 2,
   "id": "b3333694",
   "metadata": {},
   "outputs": [],
   "source": [
    "# Open browser\n",
    "browser = Browser(\"chrome\")"
   ]
  },
  {
   "cell_type": "code",
   "execution_count": 3,
   "id": "4efd6ecc",
   "metadata": {},
   "outputs": [],
   "source": [
    "# Iterate through webpages to create list\n",
    "table_list = []\n",
    "for x in range(1,11):\n",
    "    # Parse html from webpages\n",
    "    url = f\"https://boardgamegeek.com/browse/boardgame/page/{x}\"\n",
    "    browser.visit(url)\n",
    "    html = browser.html\n",
    "    page = soup(html, 'html.parser')\n",
    "\n",
    "    # Find all table rows\n",
    "    rows = page.find_all('tr', id='row_')\n",
    "\n",
    "    # Create dictionaries and append to list for dataframe\n",
    "    for row in rows:\n",
    "        rank = row.find('a')['name']\n",
    "        name = row.find('a', class_='primary').text\n",
    "        link = row.find('a', class_='primary')['href']\n",
    "    \n",
    "        row_dict = {\n",
    "            'rank': rank,\n",
    "            'title': name,\n",
    "            'link': link\n",
    "                }\n",
    "        table_list.append(row_dict)"
   ]
  },
  {
   "cell_type": "code",
   "execution_count": 4,
   "id": "7abd8b28",
   "metadata": {},
   "outputs": [],
   "source": [
    "# Close browser\n",
    "browser.quit()"
   ]
  },
  {
   "cell_type": "code",
   "execution_count": 5,
   "id": "f083f2fc",
   "metadata": {},
   "outputs": [
    {
     "data": {
      "application/vnd.microsoft.datawrangler.viewer.v0+json": {
       "columns": [
        {
         "name": "index",
         "rawType": "int64",
         "type": "integer"
        },
        {
         "name": "rank",
         "rawType": "object",
         "type": "string"
        },
        {
         "name": "title",
         "rawType": "object",
         "type": "string"
        },
        {
         "name": "game id",
         "rawType": "object",
         "type": "string"
        }
       ],
       "ref": "a8b8c5be-8055-4032-b7fa-b53125eb6538",
       "rows": [
        [
         "0",
         "1",
         "Brass: Birmingham",
         "224517"
        ],
        [
         "1",
         "2",
         "Pandemic Legacy: Season 1",
         "161936"
        ],
        [
         "2",
         "3",
         "Ark Nova",
         "342942"
        ],
        [
         "3",
         "4",
         "Gloomhaven",
         "174430"
        ],
        [
         "4",
         "5",
         "Twilight Imperium: Fourth Edition",
         "233078"
        ]
       ],
       "shape": {
        "columns": 3,
        "rows": 5
       }
      },
      "text/html": [
       "<div>\n",
       "<style scoped>\n",
       "    .dataframe tbody tr th:only-of-type {\n",
       "        vertical-align: middle;\n",
       "    }\n",
       "\n",
       "    .dataframe tbody tr th {\n",
       "        vertical-align: top;\n",
       "    }\n",
       "\n",
       "    .dataframe thead th {\n",
       "        text-align: right;\n",
       "    }\n",
       "</style>\n",
       "<table border=\"1\" class=\"dataframe\">\n",
       "  <thead>\n",
       "    <tr style=\"text-align: right;\">\n",
       "      <th></th>\n",
       "      <th>rank</th>\n",
       "      <th>title</th>\n",
       "      <th>game id</th>\n",
       "    </tr>\n",
       "  </thead>\n",
       "  <tbody>\n",
       "    <tr>\n",
       "      <th>0</th>\n",
       "      <td>1</td>\n",
       "      <td>Brass: Birmingham</td>\n",
       "      <td>224517</td>\n",
       "    </tr>\n",
       "    <tr>\n",
       "      <th>1</th>\n",
       "      <td>2</td>\n",
       "      <td>Pandemic Legacy: Season 1</td>\n",
       "      <td>161936</td>\n",
       "    </tr>\n",
       "    <tr>\n",
       "      <th>2</th>\n",
       "      <td>3</td>\n",
       "      <td>Ark Nova</td>\n",
       "      <td>342942</td>\n",
       "    </tr>\n",
       "    <tr>\n",
       "      <th>3</th>\n",
       "      <td>4</td>\n",
       "      <td>Gloomhaven</td>\n",
       "      <td>174430</td>\n",
       "    </tr>\n",
       "    <tr>\n",
       "      <th>4</th>\n",
       "      <td>5</td>\n",
       "      <td>Twilight Imperium: Fourth Edition</td>\n",
       "      <td>233078</td>\n",
       "    </tr>\n",
       "  </tbody>\n",
       "</table>\n",
       "</div>"
      ],
      "text/plain": [
       "  rank                              title game id\n",
       "0    1                  Brass: Birmingham  224517\n",
       "1    2          Pandemic Legacy: Season 1  161936\n",
       "2    3                           Ark Nova  342942\n",
       "3    4                         Gloomhaven  174430\n",
       "4    5  Twilight Imperium: Fourth Edition  233078"
      ]
     },
     "execution_count": 5,
     "metadata": {},
     "output_type": "execute_result"
    }
   ],
   "source": [
    "# Create dataframe\n",
    "df = pd.DataFrame(table_list)\n",
    "\n",
    "# Convert link to game ID#\n",
    "df['game id'] = df['link'].str.extract(r\"/(\\d+)/\")\n",
    "new_df = df[['rank', 'title', 'game id']]\n",
    "new_df.head()"
   ]
  },
  {
   "cell_type": "code",
   "execution_count": null,
   "id": "e951a619",
   "metadata": {},
   "outputs": [
    {
     "data": {
      "application/vnd.microsoft.datawrangler.viewer.v0+json": {
       "columns": [
        {
         "name": "index",
         "rawType": "object",
         "type": "string"
        },
        {
         "name": "rank",
         "rawType": "object",
         "type": "unknown"
        },
        {
         "name": "title",
         "rawType": "object",
         "type": "unknown"
        },
        {
         "name": "game id",
         "rawType": "object",
         "type": "unknown"
        }
       ],
       "ref": "8a62133f-f90c-4fd0-b4ab-267cc5559872",
       "rows": [
        [
         "count",
         "1000",
         "1000",
         "1000"
        ],
        [
         "unique",
         "1000",
         "995",
         "999"
        ],
        [
         "top",
         "1000",
         "Love Letter",
         "351913"
        ],
        [
         "freq",
         "1",
         "2",
         "2"
        ]
       ],
       "shape": {
        "columns": 3,
        "rows": 4
       }
      },
      "text/html": [
       "<div>\n",
       "<style scoped>\n",
       "    .dataframe tbody tr th:only-of-type {\n",
       "        vertical-align: middle;\n",
       "    }\n",
       "\n",
       "    .dataframe tbody tr th {\n",
       "        vertical-align: top;\n",
       "    }\n",
       "\n",
       "    .dataframe thead th {\n",
       "        text-align: right;\n",
       "    }\n",
       "</style>\n",
       "<table border=\"1\" class=\"dataframe\">\n",
       "  <thead>\n",
       "    <tr style=\"text-align: right;\">\n",
       "      <th></th>\n",
       "      <th>rank</th>\n",
       "      <th>title</th>\n",
       "      <th>game id</th>\n",
       "    </tr>\n",
       "  </thead>\n",
       "  <tbody>\n",
       "    <tr>\n",
       "      <th>count</th>\n",
       "      <td>1000</td>\n",
       "      <td>1000</td>\n",
       "      <td>1000</td>\n",
       "    </tr>\n",
       "    <tr>\n",
       "      <th>unique</th>\n",
       "      <td>1000</td>\n",
       "      <td>995</td>\n",
       "      <td>999</td>\n",
       "    </tr>\n",
       "    <tr>\n",
       "      <th>top</th>\n",
       "      <td>1000</td>\n",
       "      <td>Love Letter</td>\n",
       "      <td>351913</td>\n",
       "    </tr>\n",
       "    <tr>\n",
       "      <th>freq</th>\n",
       "      <td>1</td>\n",
       "      <td>2</td>\n",
       "      <td>2</td>\n",
       "    </tr>\n",
       "  </tbody>\n",
       "</table>\n",
       "</div>"
      ],
      "text/plain": [
       "        rank        title game id\n",
       "count   1000         1000    1000\n",
       "unique  1000          995     999\n",
       "top     1000  Love Letter  351913\n",
       "freq       1            2       2"
      ]
     },
     "execution_count": 6,
     "metadata": {},
     "output_type": "execute_result"
    }
   ],
   "source": [
    "# Make sure 1000 rows came through and check for duplicates\n",
    "new_df.describe()"
   ]
  },
  {
   "cell_type": "code",
   "execution_count": 12,
   "id": "3b9979be",
   "metadata": {},
   "outputs": [
    {
     "name": "stdout",
     "output_type": "stream",
     "text": [
      "    rank    title game id\n",
      "299  300  Tiletum  351913\n",
      "300  301  Tiletum  351913\n",
      "    rank                                 title game id\n",
      "202  203                                  Dune  283355\n",
      "299  300                               Tiletum  351913\n",
      "300  301                               Tiletum  351913\n",
      "329  330                           Love Letter  277085\n",
      "351  352                           Love Letter  129622\n",
      "517  518  Lord of the Rings: The Confrontation   18833\n",
      "527  528                                  Dune     121\n",
      "539  540                              Citadels  205398\n",
      "557  558                              Citadels     478\n",
      "756  757  Lord of the Rings: The Confrontation    3201\n"
     ]
    }
   ],
   "source": [
    "# Look at non-unique rows\n",
    "non_unique_ids = new_df[new_df['game id'].duplicated(keep=False)]\n",
    "print(non_unique_ids)\n",
    "\n",
    "non_unique_titles = new_df[new_df['title'].duplicated(keep=False)]\n",
    "print(non_unique_titles)"
   ]
  },
  {
   "cell_type": "markdown",
   "id": "cde58945",
   "metadata": {},
   "source": [
    "Repeated titles are mostly reiterations/variations. Only one true duplicate."
   ]
  },
  {
   "cell_type": "code",
   "execution_count": 14,
   "id": "cf35c898",
   "metadata": {},
   "outputs": [
    {
     "data": {
      "application/vnd.microsoft.datawrangler.viewer.v0+json": {
       "columns": [
        {
         "name": "index",
         "rawType": "object",
         "type": "string"
        },
        {
         "name": "rank",
         "rawType": "object",
         "type": "unknown"
        },
        {
         "name": "title",
         "rawType": "object",
         "type": "unknown"
        },
        {
         "name": "game id",
         "rawType": "object",
         "type": "unknown"
        }
       ],
       "ref": "be5159fe-35d6-4c6d-a946-7f40cf7eeab0",
       "rows": [
        [
         "count",
         "999",
         "999",
         "999"
        ],
        [
         "unique",
         "999",
         "995",
         "999"
        ],
        [
         "top",
         "1000",
         "Dune",
         "177590"
        ],
        [
         "freq",
         "1",
         "2",
         "1"
        ]
       ],
       "shape": {
        "columns": 3,
        "rows": 4
       }
      },
      "text/html": [
       "<div>\n",
       "<style scoped>\n",
       "    .dataframe tbody tr th:only-of-type {\n",
       "        vertical-align: middle;\n",
       "    }\n",
       "\n",
       "    .dataframe tbody tr th {\n",
       "        vertical-align: top;\n",
       "    }\n",
       "\n",
       "    .dataframe thead th {\n",
       "        text-align: right;\n",
       "    }\n",
       "</style>\n",
       "<table border=\"1\" class=\"dataframe\">\n",
       "  <thead>\n",
       "    <tr style=\"text-align: right;\">\n",
       "      <th></th>\n",
       "      <th>rank</th>\n",
       "      <th>title</th>\n",
       "      <th>game id</th>\n",
       "    </tr>\n",
       "  </thead>\n",
       "  <tbody>\n",
       "    <tr>\n",
       "      <th>count</th>\n",
       "      <td>999</td>\n",
       "      <td>999</td>\n",
       "      <td>999</td>\n",
       "    </tr>\n",
       "    <tr>\n",
       "      <th>unique</th>\n",
       "      <td>999</td>\n",
       "      <td>995</td>\n",
       "      <td>999</td>\n",
       "    </tr>\n",
       "    <tr>\n",
       "      <th>top</th>\n",
       "      <td>1000</td>\n",
       "      <td>Dune</td>\n",
       "      <td>177590</td>\n",
       "    </tr>\n",
       "    <tr>\n",
       "      <th>freq</th>\n",
       "      <td>1</td>\n",
       "      <td>2</td>\n",
       "      <td>1</td>\n",
       "    </tr>\n",
       "  </tbody>\n",
       "</table>\n",
       "</div>"
      ],
      "text/plain": [
       "        rank title game id\n",
       "count    999   999     999\n",
       "unique   999   995     999\n",
       "top     1000  Dune  177590\n",
       "freq       1     2       1"
      ]
     },
     "execution_count": 14,
     "metadata": {},
     "output_type": "execute_result"
    }
   ],
   "source": [
    "# Remove duplicate id\n",
    "final_df = new_df.drop(300)\n",
    "final_df.describe()"
   ]
  },
  {
   "cell_type": "code",
   "execution_count": 15,
   "id": "e9c6d3c4",
   "metadata": {},
   "outputs": [],
   "source": [
    "# Save df to csv\n",
    "final_df.to_csv('final_scrape_dataframe', index=False)"
   ]
  }
 ],
 "metadata": {
  "kernelspec": {
   "display_name": "dev",
   "language": "python",
   "name": "python3"
  },
  "language_info": {
   "codemirror_mode": {
    "name": "ipython",
    "version": 3
   },
   "file_extension": ".py",
   "mimetype": "text/x-python",
   "name": "python",
   "nbconvert_exporter": "python",
   "pygments_lexer": "ipython3",
   "version": "3.10.16"
  }
 },
 "nbformat": 4,
 "nbformat_minor": 5
}
