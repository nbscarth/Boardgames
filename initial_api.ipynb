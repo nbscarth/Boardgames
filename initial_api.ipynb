{
 "cells": [
  {
   "cell_type": "code",
   "execution_count": 1,
   "id": "bdee16a9",
   "metadata": {},
   "outputs": [],
   "source": [
    "# Imports\n",
    "import pandas as pd\n",
    "import requests\n",
    "from xml.etree import ElementTree as ET"
   ]
  },
  {
   "cell_type": "code",
   "execution_count": 3,
   "id": "59dc2abb",
   "metadata": {},
   "outputs": [
    {
     "data": {
      "text/html": [
       "<div>\n",
       "<style scoped>\n",
       "    .dataframe tbody tr th:only-of-type {\n",
       "        vertical-align: middle;\n",
       "    }\n",
       "\n",
       "    .dataframe tbody tr th {\n",
       "        vertical-align: top;\n",
       "    }\n",
       "\n",
       "    .dataframe thead th {\n",
       "        text-align: right;\n",
       "    }\n",
       "</style>\n",
       "<table border=\"1\" class=\"dataframe\">\n",
       "  <thead>\n",
       "    <tr style=\"text-align: right;\">\n",
       "      <th></th>\n",
       "      <th>rank</th>\n",
       "      <th>title</th>\n",
       "      <th>game id</th>\n",
       "    </tr>\n",
       "  </thead>\n",
       "  <tbody>\n",
       "    <tr>\n",
       "      <th>0</th>\n",
       "      <td>1</td>\n",
       "      <td>Brass: Birmingham</td>\n",
       "      <td>224517</td>\n",
       "    </tr>\n",
       "    <tr>\n",
       "      <th>1</th>\n",
       "      <td>2</td>\n",
       "      <td>Pandemic Legacy: Season 1</td>\n",
       "      <td>161936</td>\n",
       "    </tr>\n",
       "    <tr>\n",
       "      <th>2</th>\n",
       "      <td>3</td>\n",
       "      <td>Ark Nova</td>\n",
       "      <td>342942</td>\n",
       "    </tr>\n",
       "    <tr>\n",
       "      <th>3</th>\n",
       "      <td>4</td>\n",
       "      <td>Gloomhaven</td>\n",
       "      <td>174430</td>\n",
       "    </tr>\n",
       "    <tr>\n",
       "      <th>4</th>\n",
       "      <td>5</td>\n",
       "      <td>Twilight Imperium: Fourth Edition</td>\n",
       "      <td>233078</td>\n",
       "    </tr>\n",
       "  </tbody>\n",
       "</table>\n",
       "</div>"
      ],
      "text/plain": [
       "   rank                              title  game id\n",
       "0     1                  Brass: Birmingham   224517\n",
       "1     2          Pandemic Legacy: Season 1   161936\n",
       "2     3                           Ark Nova   342942\n",
       "3     4                         Gloomhaven   174430\n",
       "4     5  Twilight Imperium: Fourth Edition   233078"
      ]
     },
     "execution_count": 3,
     "metadata": {},
     "output_type": "execute_result"
    }
   ],
   "source": [
    "# Read csv\n",
    "df = pd.read_csv('initial_scrape_dataframe')\n",
    "df.head()"
   ]
  },
  {
   "cell_type": "code",
   "execution_count": null,
   "id": "192b80f7",
   "metadata": {},
   "outputs": [
    {
     "data": {
      "text/plain": [
       "[224517,\n",
       " 161936,\n",
       " 342942,\n",
       " 174430,\n",
       " 233078,\n",
       " 316554,\n",
       " 167791,\n",
       " 115746,\n",
       " 187645,\n",
       " 162886,\n",
       " 397598,\n",
       " 291457,\n",
       " 220308,\n",
       " 12333,\n",
       " 182028,\n",
       " 84876,\n",
       " 193738,\n",
       " 169786,\n",
       " 246900,\n",
       " 173346,\n",
       " 28720,\n",
       " 295770,\n",
       " 167355,\n",
       " 266507,\n",
       " 177736,\n",
       " 124361,\n",
       " 341169,\n",
       " 312484,\n",
       " 205637,\n",
       " 237182,\n",
       " 192135,\n",
       " 120677,\n",
       " 266192,\n",
       " 164928,\n",
       " 373106,\n",
       " 96848,\n",
       " 251247,\n",
       " 421006,\n",
       " 324856,\n",
       " 199792,\n",
       " 183394,\n",
       " 338960,\n",
       " 366013,\n",
       " 321608,\n",
       " 285774,\n",
       " 521,\n",
       " 284378,\n",
       " 175914,\n",
       " 256960,\n",
       " 247763,\n",
       " 418059,\n",
       " 3076,\n",
       " 253344,\n",
       " 295947,\n",
       " 314040,\n",
       " 102794,\n",
       " 185343,\n",
       " 184267,\n",
       " 170216,\n",
       " 31260,\n",
       " 251661,\n",
       " 383179,\n",
       " 255984,\n",
       " 161533,\n",
       " 231733,\n",
       " 221107,\n",
       " 182874,\n",
       " 205059,\n",
       " 126163,\n",
       " 2651,\n",
       " 365717,\n",
       " 244521,\n",
       " 216132,\n",
       " 35677,\n",
       " 266810,\n",
       " 276025,\n",
       " 125153,\n",
       " 164153,\n",
       " 124742,\n",
       " 414317,\n",
       " 200680,\n",
       " 209010,\n",
       " 284083,\n",
       " 390092,\n",
       " 371942,\n",
       " 55690,\n",
       " 28143,\n",
       " 230802,\n",
       " 157354,\n",
       " 201808,\n",
       " 332772,\n",
       " 159675,\n",
       " 72125,\n",
       " 322289,\n",
       " 380607,\n",
       " 240980,\n",
       " 191189,\n",
       " 366161,\n",
       " 93,\n",
       " 110327]"
      ]
     },
     "execution_count": 4,
     "metadata": {},
     "output_type": "execute_result"
    }
   ],
   "source": [
    "# Create list of game IDs for iteration\n",
    "game_ids = df['game id'].to_list()\n",
    "game_ids"
   ]
  },
  {
   "cell_type": "code",
   "execution_count": 9,
   "id": "cab7dc9a",
   "metadata": {},
   "outputs": [
    {
     "data": {
      "text/plain": [
       "<Response [200]>"
      ]
     },
     "execution_count": 9,
     "metadata": {},
     "output_type": "execute_result"
    }
   ],
   "source": [
    "# Search for game id with API\n",
    "url = \"https://boardgamegeek.com/xmlapi/boardgame/\"\n",
    "query = f\"{game_ids[0]}\"\n",
    "\n",
    "response = requests.get(url+query)\n",
    "response"
   ]
  },
  {
   "cell_type": "code",
   "execution_count": 10,
   "id": "565bb983",
   "metadata": {},
   "outputs": [],
   "source": [
    "# Parse XML response with ElementTree\n",
    "root = ET.fromstring(response.content)"
   ]
  },
  {
   "cell_type": "code",
   "execution_count": 28,
   "id": "a369fa8a",
   "metadata": {},
   "outputs": [
    {
     "name": "stdout",
     "output_type": "stream",
     "text": [
      "boardgame {'objectid': '224517'}\n",
      "Year Published: 2018\n",
      "Min Players: 2\n",
      "Chaining\n",
      "End Game Bonuses\n",
      "Hand Management\n",
      "Income\n",
      "Loans\n",
      "Market\n",
      "Multi-Use Cards\n",
      "Network and Route Building\n",
      "Ownership\n",
      "Tags\n",
      "Tech Trees / Tech Tracks\n",
      "Tile Placement\n",
      "Turn Order: Stat-Based\n",
      "Variable Set-up\n"
     ]
    }
   ],
   "source": [
    "# Find all object ids under boardgame tag\n",
    "for game in root.findall('boardgame'):\n",
    "    print(game.tag, game.attrib)\n",
    "    print(f'Year Published: ' + game.find('yearpublished').text)\n",
    "    print(f'Min Players: ' + game.find('minplayers').text)\n",
    "    for mechanic in game.findall('boardgamemechanic'):\n",
    "        print(mechanic.text)"
   ]
  }
 ],
 "metadata": {
  "kernelspec": {
   "display_name": "dev",
   "language": "python",
   "name": "python3"
  },
  "language_info": {
   "codemirror_mode": {
    "name": "ipython",
    "version": 3
   },
   "file_extension": ".py",
   "mimetype": "text/x-python",
   "name": "python",
   "nbconvert_exporter": "python",
   "pygments_lexer": "ipython3",
   "version": "3.10.16"
  }
 },
 "nbformat": 4,
 "nbformat_minor": 5
}
