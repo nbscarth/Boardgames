{
 "cells": [
  {
   "cell_type": "code",
   "execution_count": 12,
   "id": "bdee16a9",
   "metadata": {},
   "outputs": [],
   "source": [
    "# Imports\n",
    "import pandas as pd\n",
    "import requests\n",
    "from xml.etree import ElementTree as ET"
   ]
  },
  {
   "cell_type": "code",
   "execution_count": 2,
   "id": "59dc2abb",
   "metadata": {},
   "outputs": [
    {
     "data": {
      "text/html": [
       "<div>\n",
       "<style scoped>\n",
       "    .dataframe tbody tr th:only-of-type {\n",
       "        vertical-align: middle;\n",
       "    }\n",
       "\n",
       "    .dataframe tbody tr th {\n",
       "        vertical-align: top;\n",
       "    }\n",
       "\n",
       "    .dataframe thead th {\n",
       "        text-align: right;\n",
       "    }\n",
       "</style>\n",
       "<table border=\"1\" class=\"dataframe\">\n",
       "  <thead>\n",
       "    <tr style=\"text-align: right;\">\n",
       "      <th></th>\n",
       "      <th>Board Game Rank</th>\n",
       "      <th>Title</th>\n",
       "      <th>Year</th>\n",
       "      <th>Geek Rating</th>\n",
       "      <th>Avg Rating</th>\n",
       "      <th>Num Voters</th>\n",
       "    </tr>\n",
       "  </thead>\n",
       "  <tbody>\n",
       "    <tr>\n",
       "      <th>0</th>\n",
       "      <td>1</td>\n",
       "      <td>Brass: Birmingham</td>\n",
       "      <td>2018</td>\n",
       "      <td>8.402</td>\n",
       "      <td>8.58</td>\n",
       "      <td>52374</td>\n",
       "    </tr>\n",
       "    <tr>\n",
       "      <th>1</th>\n",
       "      <td>2</td>\n",
       "      <td>Pandemic Legacy: Season 1</td>\n",
       "      <td>2015</td>\n",
       "      <td>8.361</td>\n",
       "      <td>8.51</td>\n",
       "      <td>55674</td>\n",
       "    </tr>\n",
       "    <tr>\n",
       "      <th>2</th>\n",
       "      <td>3</td>\n",
       "      <td>Ark Nova</td>\n",
       "      <td>2021</td>\n",
       "      <td>8.348</td>\n",
       "      <td>8.54</td>\n",
       "      <td>52866</td>\n",
       "    </tr>\n",
       "    <tr>\n",
       "      <th>3</th>\n",
       "      <td>4</td>\n",
       "      <td>Gloomhaven</td>\n",
       "      <td>2017</td>\n",
       "      <td>8.323</td>\n",
       "      <td>8.56</td>\n",
       "      <td>64981</td>\n",
       "    </tr>\n",
       "    <tr>\n",
       "      <th>4</th>\n",
       "      <td>5</td>\n",
       "      <td>Twilight Imperium: Fourth Edition</td>\n",
       "      <td>2017</td>\n",
       "      <td>8.227</td>\n",
       "      <td>8.58</td>\n",
       "      <td>26196</td>\n",
       "    </tr>\n",
       "  </tbody>\n",
       "</table>\n",
       "</div>"
      ],
      "text/plain": [
       "   Board Game Rank                               Title  Year  Geek Rating  \\\n",
       "0                1                  Brass: Birmingham   2018        8.402   \n",
       "1                2          Pandemic Legacy: Season 1   2015        8.361   \n",
       "2                3                           Ark Nova   2021        8.348   \n",
       "3                4                         Gloomhaven   2017        8.323   \n",
       "4                5  Twilight Imperium: Fourth Edition   2017        8.227   \n",
       "\n",
       "   Avg Rating  Num Voters  \n",
       "0        8.58       52374  \n",
       "1        8.51       55674  \n",
       "2        8.54       52866  \n",
       "3        8.56       64981  \n",
       "4        8.58       26196  "
      ]
     },
     "execution_count": 2,
     "metadata": {},
     "output_type": "execute_result"
    }
   ],
   "source": [
    "# Read csv\n",
    "df = pd.read_csv('initial_dataframe')\n",
    "df.head()"
   ]
  },
  {
   "cell_type": "code",
   "execution_count": 3,
   "id": "192b80f7",
   "metadata": {},
   "outputs": [
    {
     "data": {
      "text/plain": [
       "['Brass: Birmingham ',\n",
       " 'Pandemic Legacy: Season 1 ',\n",
       " 'Ark Nova ',\n",
       " 'Gloomhaven ',\n",
       " 'Twilight Imperium: Fourth Edition ',\n",
       " 'Dune: Imperium ',\n",
       " 'Terraforming Mars ',\n",
       " 'War of the Ring: Second Edition ',\n",
       " 'Star Wars: Rebellion ',\n",
       " 'Spirit Island ',\n",
       " 'Dune: Imperium – Uprising ',\n",
       " 'Gloomhaven: Jaws of the Lion ',\n",
       " 'Gaia Project ',\n",
       " 'Twilight Struggle ',\n",
       " 'Through the Ages: A New Story of Civilization ',\n",
       " 'The Castles of Burgundy ',\n",
       " 'Great Western Trail ',\n",
       " 'Scythe ',\n",
       " 'Eclipse: Second Dawn for the Galaxy ',\n",
       " '7 Wonders Duel ',\n",
       " 'Brass: Lancashire ',\n",
       " 'Frosthaven ',\n",
       " 'Nemesis ',\n",
       " 'Clank! Legacy: Acquisitions Incorporated ',\n",
       " 'A Feast for Odin ',\n",
       " 'Concordia ',\n",
       " 'Great Western Trail: Second Edition ',\n",
       " 'Lost Ruins of Arnak ',\n",
       " 'Arkham Horror: The Card Game ',\n",
       " 'Root ',\n",
       " 'Too Many Bones ',\n",
       " 'Terra Mystica ',\n",
       " 'Wingspan ',\n",
       " 'Orléans ',\n",
       " 'Sky Team ',\n",
       " 'Mage Knight Board Game ',\n",
       " 'Barrage ',\n",
       " 'The Lord of the Rings: Duel for Middle-earth ',\n",
       " 'The Crew: Mission Deep Sea ',\n",
       " 'Everdell ',\n",
       " 'Viticulture Essential Edition ',\n",
       " 'Slay the Spire: The Board Game ',\n",
       " 'Heat: Pedal to the Metal ',\n",
       " 'Hegemony: Lead Your Class to Victory ',\n",
       " 'Marvel Champions: The Card Game ',\n",
       " 'Crokinole ',\n",
       " 'Kanban EV ',\n",
       " 'Food Chain Magnate ',\n",
       " 'Pax Pamir: Second Edition ',\n",
       " 'Underwater Cities ',\n",
       " 'SETI: Search for Extraterrestrial Intelligence ',\n",
       " 'Puerto Rico ',\n",
       " 'Cthulhu: Death May Die ',\n",
       " 'Cascadia ',\n",
       " 'Pandemic Legacy: Season 0 ',\n",
       " 'Caverna: The Cave Farmers ',\n",
       " 'Anachrony ',\n",
       " 'On Mars ',\n",
       " 'Blood Rage ',\n",
       " 'Agricola ',\n",
       " 'Oathsworn: Into the Deepwood ',\n",
       " 'Age of Innovation ',\n",
       " 'Sleeping Gods ',\n",
       " 'Lisboa ',\n",
       " 'Obsession ',\n",
       " 'Pandemic Legacy: Season 2 ',\n",
       " 'Grand Austria Hotel ',\n",
       " 'Mansions of Madness: Second Edition ',\n",
       " \"Tzolk'in: The Mayan Calendar \",\n",
       " 'Power Grid ',\n",
       " 'Clank!: Catacombs ',\n",
       " 'Quacks ',\n",
       " 'Clans of Caledonia ',\n",
       " 'Le Havre ',\n",
       " 'Paladins of the West Kingdom ',\n",
       " 'Maracaibo ',\n",
       " 'The Gallerist ',\n",
       " 'Star Wars: Imperial Assault ',\n",
       " 'Android: Netrunner ',\n",
       " 'Harmonies ',\n",
       " 'Agricola (Revised Edition) ',\n",
       " 'Mechs vs. Minions ',\n",
       " 'The Crew: The Quest for Planet Nine ',\n",
       " 'Ticket to Ride Legacy: Legends of the West ',\n",
       " 'The White Castle ',\n",
       " 'Kingdom Death: Monster ',\n",
       " 'Race for the Galaxy ',\n",
       " 'Azul ',\n",
       " 'Five Tribes: The Djinns of Naqala ',\n",
       " 'Clank!: A Deck-Building Adventure ',\n",
       " 'Revive ',\n",
       " 'Fields of Arle ',\n",
       " 'Eclipse: New Dawn for the Galaxy ',\n",
       " \"Darwin's Journey \",\n",
       " 'Great Western Trail: New Zealand ',\n",
       " 'Blood on the Clocktower ',\n",
       " \"Aeon's End \",\n",
       " 'Wingspan Asia ',\n",
       " 'El Grande ',\n",
       " 'Lords of Waterdeep ']"
      ]
     },
     "execution_count": 3,
     "metadata": {},
     "output_type": "execute_result"
    }
   ],
   "source": [
    "# Create list of titles for iteration\n",
    "titles = df['Title'].to_list()\n",
    "titles"
   ]
  },
  {
   "cell_type": "code",
   "execution_count": null,
   "id": "cab7dc9a",
   "metadata": {},
   "outputs": [
    {
     "data": {
      "text/plain": [
       "<Response [200]>"
      ]
     },
     "execution_count": 86,
     "metadata": {},
     "output_type": "execute_result"
    }
   ],
   "source": [
    "# Search for title with API\n",
    "url = \"https://boardgamegeek.com/xmlapi/\"\n",
    "search = f\"search?search=Frosthaven\"\n",
    "\n",
    "response = requests.get(url+search)\n",
    "response"
   ]
  },
  {
   "cell_type": "code",
   "execution_count": null,
   "id": "565bb983",
   "metadata": {},
   "outputs": [],
   "source": [
    "# Parse XML response with ElementTree\n",
    "root = ET.fromstring(response.content)"
   ]
  },
  {
   "cell_type": "code",
   "execution_count": null,
   "id": "a369fa8a",
   "metadata": {},
   "outputs": [
    {
     "name": "stdout",
     "output_type": "stream",
     "text": [
      "boardgame {'objectid': '295770'}\n",
      "boardgame {'objectid': '402665'}\n",
      "boardgame {'objectid': '402666'}\n",
      "boardgame {'objectid': '306152'}\n",
      "boardgame {'objectid': '306151'}\n",
      "boardgame {'objectid': '407830'}\n",
      "boardgame {'objectid': '333406'}\n"
     ]
    }
   ],
   "source": [
    "# Find all object ids under boardgame tag\n",
    "for game in root.findall('boardgame'):\n",
    "    print(game.tag, game.attrib)\n"
   ]
  }
 ],
 "metadata": {
  "kernelspec": {
   "display_name": "dev",
   "language": "python",
   "name": "python3"
  },
  "language_info": {
   "codemirror_mode": {
    "name": "ipython",
    "version": 3
   },
   "file_extension": ".py",
   "mimetype": "text/x-python",
   "name": "python",
   "nbconvert_exporter": "python",
   "pygments_lexer": "ipython3",
   "version": "3.10.16"
  }
 },
 "nbformat": 4,
 "nbformat_minor": 5
}
